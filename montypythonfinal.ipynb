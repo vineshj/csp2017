{
 "cells": [
  {
   "cell_type": "code",
   "execution_count": null,
   "metadata": {
    "collapsed": false,
    "deletable": true,
    "editable": true,
    "scrolled": false
   },
   "outputs": [
    {
     "name": "stdout",
     "output_type": "stream",
     "text": [
      "Welcome to the Monty Hall Riddle!\n",
      "    \n",
      "    My name is Vinesh. I will be your host for this game.\n",
      "    \n",
      "    Here's how it works. So there are three doors as you can see down below.\n",
      "    Behind two of the doors, there is a goat. Behind one of the doors, there a\n",
      "    brand new car! I will ask you which door you would like to choose. After I\n",
      "    reveal a goat that is behind another door other than the one that you have\n",
      "    selected, you have the option to stick with the door that you chose or \n",
      "    switch to one of the other doors.\n",
      "    _____________________________\n",
      "    |        |         |        |\n",
      "    |  DOOR  |  DOOR   |  DOOR  |\n",
      "    |    1   |    2    |    3   |\n",
      "    |________|_________|________|\n",
      "    \n",
      "    ready to play? (yes)yes\n",
      "Would you like to open door 1, door 2, or door 3? (just type the door number)1\n",
      "\n",
      "        \n",
      "        *****Your host opens door 3*****\n",
      " \n",
      "                You chose to open door 1.\n",
      "                Do you choose to swtich to door 2 or stick with door 1? (just type the door number)1\n",
      "\n",
      "            \n",
      "            Congratulations! You just won a car! You are so lucky!\n"
     ]
    }
   ],
   "source": [
    "import random\n",
    "def monty():\n",
    "    start =  raw_input(\"\"\"Welcome to the Monty Hall Riddle!\n",
    "    \n",
    "    My name is Vinesh. I will be your host for this game.\n",
    "    \n",
    "    Here's how it works. So there are three doors as you can see down below.\n",
    "    Behind two of the doors, there is a goat. Behind one of the doors, there a\n",
    "    brand new car! I will ask you which door you would like to choose. After I\n",
    "    reveal a goat that is behind another door other than the one that you have\n",
    "    selected, you have the option to stick with the door that you chose or \n",
    "    switch to one of the other doors.\n",
    "    _____________________________\n",
    "    |        |         |        |\n",
    "    |  DOOR  |  DOOR   |  DOOR  |\n",
    "    |    1   |    2    |    3   |\n",
    "    |________|_________|________|\n",
    "    \n",
    "    ready to play? (yes)\"\"\") #This is the monty python riddle explanation with a little diagram\n",
    "    while start == 'yes': #The player must agree to play the game before beginning\n",
    "        prizedoor = int(random.randint(1,3)) #This selects the random door that the car is behind     \n",
    "        guess1 =  int(raw_input(\"\"\"Would you like to open door 1, door 2, or door 3? (just type the door number)\"\"\"))\n",
    "        opendoor = int(random.randint(1,3)) #This is the door that the host opens\n",
    "        while opendoor == prizedoor or opendoor == guess1: #Must make sure that the door that the host opens isn't the door that the player chose or the door that holds the car\n",
    "            opendoor = int(random.randint(1,3))\n",
    "        print \"\"\"\n",
    "        \n",
    "        *****Your host opens door \"\"\" + str(opendoor) + \"\"\"*****\"\"\"\n",
    "        switchdoor = 0\n",
    "        if prizedoor != guess1: #If door with car is not equal to the player's guess, then the door with the car becomes the switch door\n",
    "            switchdoor = prizedoor\n",
    "        else:\n",
    "            switchdoor = int(random.randint(1,3))\n",
    "            while switchdoor == prizedoor or switchdoor == opendoor:\n",
    "                switchdoor = int(random.randint(1,3)) #creates the only door that the play can switch to\n",
    "       \n",
    "        switch =  int(raw_input(\"\"\" \n",
    "                You chose to open door \"\"\" + str(guess1) +\"\"\".\n",
    "                Do you choose to swtich to door \"\"\" + str(switchdoor) + \"\"\" or stick with door \"\"\" + str(guess1) + \"\"\"? (just type the door number)\"\"\"))\n",
    "        #switch is the second input from the player\n",
    "        if switch == prizedoor: #if the player wins\n",
    "            print \"\"\"\n",
    "            \n",
    "            Congratulations! You just won a car! You are so lucky!\"\"\"\n",
    "        else: #if the player loses\n",
    "            print \"\"\"\n",
    "            \n",
    "            Sorry buddy. Maybe Next time. You got a goat.\"\"\"\n",
    "        playagain = raw_input(\"Do you want to play again? (yes/no):\") #gives the player the option to play again\n",
    "        if playagain == \"no\":\n",
    "            break\n",
    "        \n",
    "                \n",
    "\n",
    "monty()     "
   ]
  },
  {
   "cell_type": "code",
   "execution_count": 1,
   "metadata": {
    "collapsed": false,
    "deletable": true,
    "editable": true
   },
   "outputs": [
    {
     "ename": "NameError",
     "evalue": "name 'yes' is not defined",
     "output_type": "error",
     "traceback": [
      "\u001b[1;31m\u001b[0m",
      "\u001b[1;31mNameError\u001b[0mTraceback (most recent call last)",
      "\u001b[1;32m<ipython-input-1-eb4585ad9fe0>\u001b[0m in \u001b[0;36m<module>\u001b[1;34m()\u001b[0m\n\u001b[1;32m----> 1\u001b[1;33m \u001b[0myes\u001b[0m\u001b[1;33m\u001b[0m\u001b[0m\n\u001b[0m",
      "\u001b[1;31mNameError\u001b[0m: name 'yes' is not defined"
     ]
    }
   ],
   "source": [
    "yes\n"
   ]
  },
  {
   "cell_type": "code",
   "execution_count": null,
   "metadata": {
    "collapsed": true,
    "deletable": true,
    "editable": true
   },
   "outputs": [],
   "source": []
  }
 ],
 "metadata": {
  "kernelspec": {
   "display_name": "Python 2",
   "language": "python",
   "name": "python2"
  },
  "language_info": {
   "codemirror_mode": {
    "name": "ipython",
    "version": 2
   },
   "file_extension": ".py",
   "mimetype": "text/x-python",
   "name": "python",
   "nbconvert_exporter": "python",
   "pygments_lexer": "ipython2",
   "version": "2.7.13"
  }
 },
 "nbformat": 4,
 "nbformat_minor": 2
}
